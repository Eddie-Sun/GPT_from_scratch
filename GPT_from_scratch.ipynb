{
  "nbformat": 4,
  "nbformat_minor": 0,
  "metadata": {
    "colab": {
      "provenance": [],
      "authorship_tag": "ABX9TyNjwgqPQXiHT66DbVbm64iu",
      "include_colab_link": true
    },
    "kernelspec": {
      "name": "python3",
      "display_name": "Python 3"
    },
    "language_info": {
      "name": "python"
    }
  },
  "cells": [
    {
      "cell_type": "markdown",
      "metadata": {
        "id": "view-in-github",
        "colab_type": "text"
      },
      "source": [
        "<a href=\"https://colab.research.google.com/github/Eddie-Sun/GPT_from_scratch/blob/main/GPT_from_scratch.ipynb\" target=\"_parent\"><img src=\"https://colab.research.google.com/assets/colab-badge.svg\" alt=\"Open In Colab\"/></a>"
      ]
    },
    {
      "cell_type": "code",
      "execution_count": 2,
      "metadata": {
        "colab": {
          "base_uri": "https://localhost:8080/"
        },
        "id": "X_i2sFYqTD4S",
        "outputId": "19d380ab-4447-418d-9fb2-171f1c3e24f6"
      },
      "outputs": [
        {
          "output_type": "stream",
          "name": "stdout",
          "text": [
            "--2023-12-22 19:29:01--  https://sherlock-holm.es/stories/plain-text/cano.txt\n",
            "Resolving sherlock-holm.es (sherlock-holm.es)... 157.90.249.21, 2a01:4f8:1c17:5725::1\n",
            "Connecting to sherlock-holm.es (sherlock-holm.es)|157.90.249.21|:443... connected.\n",
            "HTTP request sent, awaiting response... 200 OK\n",
            "Length: 3868223 (3.7M) [text/plain]\n",
            "Saving to: ‘cano.txt’\n",
            "\n",
            "cano.txt            100%[===================>]   3.69M  4.34MB/s    in 0.8s    \n",
            "\n",
            "2023-12-22 19:29:02 (4.34 MB/s) - ‘cano.txt’ saved [3868223/3868223]\n",
            "\n"
          ]
        }
      ],
      "source": [
        "#Training data: sherlock holmes - all stories\n",
        "!wget https://sherlock-holm.es/stories/plain-text/cano.txt"
      ]
    },
    {
      "cell_type": "code",
      "source": [
        "#Read + inspect\n",
        "with open('cano.txt', 'r') as file:\n",
        "    text = file.read()\n",
        "\n",
        "print(\"length of file in char: \", len(text))"
      ],
      "metadata": {
        "colab": {
          "base_uri": "https://localhost:8080/"
        },
        "id": "cekHcvB7YvoD",
        "outputId": "a603a55c-b4d6-4381-f8ec-267c25983e7f"
      },
      "execution_count": 3,
      "outputs": [
        {
          "output_type": "stream",
          "name": "stdout",
          "text": [
            "length of file in char:  3868122\n"
          ]
        }
      ]
    },
    {
      "cell_type": "code",
      "source": [
        "chars = sorted(list(set(text)))\n",
        "vocab_size = len(chars)\n",
        "print(vocab_size)\n",
        "print(''.join(chars))"
      ],
      "metadata": {
        "colab": {
          "base_uri": "https://localhost:8080/"
        },
        "id": "rh_nZKSvbIdT",
        "outputId": "4ac2c441-a5e5-4bc0-836b-1ad3b5758a8f"
      },
      "execution_count": 5,
      "outputs": [
        {
          "output_type": "stream",
          "name": "stdout",
          "text": [
            "97\n",
            "\n",
            " !\"&'()*,-./0123456789:;?ABCDEFGHIJKLMNOPQRSTUVWXYZ[]`abcdefghijklmnopqrstuvwxyz£°½ßàâèéêîñôöûü’\n"
          ]
        }
      ]
    },
    {
      "cell_type": "code",
      "source": [
        "#Create a mapping from characters to integers\n",
        "stoi = { ch:i for i, ch in enumerate(chars) }\n",
        "itos = { i:ch for i, ch in enumerate(chars) }\n",
        "encode = lambda s: [stoi[c] for c in s]\n",
        "decode = lambda l: ''.join([itos[i] for i in l])\n",
        "print(encode(\"hello there\"))\n",
        "print(decode(encode(\"hello there\")))"
      ],
      "metadata": {
        "id": "-oNt-fNvAYAW",
        "outputId": "44a4d05c-8de2-4c5c-e8a1-43be3b6f2d97",
        "colab": {
          "base_uri": "https://localhost:8080/"
        }
      },
      "execution_count": 6,
      "outputs": [
        {
          "output_type": "stream",
          "name": "stdout",
          "text": [
            "[62, 59, 66, 66, 69, 1, 74, 62, 59, 72, 59]\n",
            "hello there\n"
          ]
        }
      ]
    },
    {
      "cell_type": "code",
      "source": [],
      "metadata": {
        "id": "IN0AcW4bH92s"
      },
      "execution_count": null,
      "outputs": []
    },
    {
      "cell_type": "markdown",
      "source": [
        " - Tensors are multi-dimensional arrays used to store and operate on data within models.\n",
        " - Common dimensions of tensors in LLMs include:\n",
        "   - Batch Size: Number of sequences processed together for efficiency (1st dimension).\n",
        "   - Sequence Length: Number of tokens in each sequence (2nd dimension).\n",
        "   - Embedding Size: Size of the representation vectors for each token (3rd dimension).\n",
        "\n",
        " Example tensor shape for input data: [Batch Size, Sequence Length, Embedding Size]\n",
        " If processing 32 sequences, each with 128 tokens, and using 768-sized embeddings, shape is [32, 128, 768].\n",
        "\n",
        " - In attention mechanisms, you encounter 4-D tensors for attention scores:\n",
        "   - Shape: [Batch Size, Number of Attention Heads, Sequence Length, Sequence Length]\n",
        "\n",
        " - Output layer tensors often add a dimension for vocabulary size to represent token probabilities:\n",
        "   - Shape: [Batch Size, Sequence Length, Vocabulary Size]"
      ],
      "metadata": {
        "id": "90eNro4VHu8V"
      }
    }
  ]
}